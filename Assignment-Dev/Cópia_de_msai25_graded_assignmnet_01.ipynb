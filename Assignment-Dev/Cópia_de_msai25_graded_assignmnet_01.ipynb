{
  "cells": [
    {
      "cell_type": "markdown",
      "metadata": {
        "id": "-hoAinoOtGlw"
      },
      "source": [
        "# **GRADED ASSIGNMENT 1**\n",
        "\n",
        "This is a programming task dedicated to the method of least squares.\n",
        "\n",
        "First, make your own copy of the notebook (*File $\\rightarrow$ Save a copy in Drive*) or download the notebook to your machine if you prefer to work locally (*File $\\rightarrow$ Download*).\n",
        "\n",
        "Then, implement your solutions to the tasks formulated in the notebook. You can add **code cells** to write some code and **text cells** in case you want to include additional explanations to your answers in plain English.\n",
        "\n",
        "Finally, save your notebook as a .pdf file and attach it to the submission form. **Make sure that all the cells are executed and all relevant outputs are being printed out**.\n"
      ]
    },
    {
      "cell_type": "code",
      "execution_count": null,
      "metadata": {
        "id": "xzirwP1VYnSH"
      },
      "outputs": [],
      "source": [
        "import numpy as np\n",
        "\n",
        "import matplotlib.pyplot as plt\n",
        "%matplotlib inline"
      ]
    },
    {
      "cell_type": "markdown",
      "metadata": {
        "id": "BGfeSntftZDI"
      },
      "source": [
        "## **Loading the data**\n",
        "\n",
        "<img src=\"https://play-lh.googleusercontent.com/proxy/mTygle1uqQrODn2o08qpgFBV4_Oh2OZMH4Ckt325oV20EC1bzPkSKylkN1kYCLB_HFlBO3hX9e__YxowGGyHEozWjt5hhvlWqEcysKOVpwHML6_GDT4J=s1920-w1920-h1080\" width=\"400\">\n",
        "\n",
        "In this part of the assignment, you will be working with a toy dataset that contains infromation about ages and prices of 25 cars. Run the cell below to load the data in memory:"
      ]
    },
    {
      "cell_type": "code",
      "execution_count": null,
      "metadata": {
        "id": "-UqI2TAPpwVO"
      },
      "outputs": [],
      "source": [
        "age = np.array([ 6., 26., 14., 38., 20., 31., 10.,  7.,  9.,  7., 5., 16., 20.,\n",
        "                 33., 37., 26., 37., 42.,  3.,  1.,  4., 2., 31., 39., 44.])\n",
        "\n",
        "price = np.array([19000.,  5500., 24500., 32000.,  7500., 12500., 24000., 46500.,\n",
        "                  20000., 46500., 67500.,  3000., 17000., 30000., 38500.,  3500.,\n",
        "                  38500.,  60000., 36000., 93500., 22500., 38500., 12500., 37500.,\n",
        "                  74500.])"
      ]
    },
    {
      "cell_type": "markdown",
      "metadata": {
        "id": "hLCjyke5tdyM"
      },
      "source": [
        "## **Task 1: A simple model** *(2 points)*\n",
        "\n",
        "Imagine that you need to predict car's price based on its age. To that end, as a strating point, you decide to model the relationship between the two as a linear function:\n",
        "\n",
        "$$car\\_price = w_0 + w_1 \\cdot car\\_age$$"
      ]
    },
    {
      "cell_type": "markdown",
      "metadata": {
        "id": "c1pVC5bgv_NA"
      },
      "source": [
        "*(1 point)* **Fit a straight line to the data available using the method of least squares. What are the optimal values for the model coefficients $w_0$ and $w_0$ that you have obtained?**\n",
        "\n",
        "<font color='red'>Do **not** use any readily-available implementation of the linear regression model. Instead, implement your own solution based on what we have derived during the exercise session.</font>"
      ]
    },
    {
      "cell_type": "code",
      "execution_count": null,
      "metadata": {
        "id": "ATOUxAl8uskE"
      },
      "outputs": [],
      "source": [
        "# TODO: your code here"
      ]
    },
    {
      "cell_type": "markdown",
      "metadata": {
        "id": "VZhn8NFJwX9i"
      },
      "source": [
        "*(1 point)* **Make a plot that would visualize the original data, as well as the predictions obtained by your model.**"
      ]
    },
    {
      "cell_type": "code",
      "execution_count": null,
      "metadata": {
        "id": "UTfBXxcRqEVM"
      },
      "outputs": [],
      "source": [
        "# TODO: your code here"
      ]
    },
    {
      "cell_type": "markdown",
      "metadata": {
        "id": "C3ixaLx5u7IS"
      },
      "source": [
        "## **Task 2: Improving the fit** *(2 points)*\n",
        "\n",
        "From the visualization you have obtained above, you can notice that the nature of the relationship between car age and its price is not linear. Indeed, both very new and very old cars can be expensive, while moderately old cars are generally cheaper. Thus, car price can be better modelled as a *quadratic* function of its age:\n",
        "\n",
        "$$car\\_price = w_0 + w_1 \\cdot car\\_age + w_2 \\cdot car\\_age^2$$"
      ]
    },
    {
      "cell_type": "markdown",
      "metadata": {
        "id": "WlbMvig68qMi"
      },
      "source": [
        "*(2 points)* **Explain how you can use the method of least squares to fit such\n",
        "a quadratic curve to the data. Implement your solution and report the optimal values of the model coefficients $w_0, w_1$ and $w_2$**."
      ]
    },
    {
      "cell_type": "markdown",
      "metadata": {
        "id": "rsoibtzpTFAf"
      },
      "source": [
        "*TODO: short explanation here*"
      ]
    },
    {
      "cell_type": "code",
      "execution_count": null,
      "metadata": {
        "id": "9EMagYKXqRQY"
      },
      "outputs": [],
      "source": [
        "# TODO: your code here"
      ]
    },
    {
      "cell_type": "markdown",
      "metadata": {
        "id": "0xy2XmfO7x_l"
      },
      "source": [
        "*(1 point)* **Make a plot that would visualize the original data, as well as the predictions obtained by the updated model.**"
      ]
    },
    {
      "cell_type": "code",
      "execution_count": null,
      "metadata": {
        "id": "BA95TdmEKwbM"
      },
      "outputs": [],
      "source": [
        "# TODO: your code here"
      ]
    },
    {
      "cell_type": "markdown",
      "metadata": {
        "id": "BhrH-Y_N7_v0"
      },
      "source": [
        "## **Task 3: Least Squares via $QR$ factorization** *(6 points)*\n",
        "\n",
        "Solving $Xw = y$ using the method of least squares the way we have derived during the exercise session involves constructing the pseudo-inverse of the input data matrix $X$, which can be computationally expensive when $X$ is large.\n",
        "\n",
        "A trick often used in practice is to decompose $X$ into a product of two matrices, $X = QR$, such that $Q$ is an *orthogonal* matrix, where column vectors are orthogonal  to each other and have unit lengths, and $R$ is an *upper-triangular* matrix.\n",
        "\n",
        "Replacing $X$ by the product of $Q$ and $R$ significantly simplifies and speeds up computing the unknown $w$ due to the special properties of these matrices.\n",
        "\n",
        "**Your task is to fit a simple model $car\\_price = w_0 + w_1 \\cdot car\\_age$ from Task 1 once again, but this time estmating the unknown coefficients using the $QR$ factorization.**\n",
        "\n",
        "**First, watch the following videos to learn more about $QR$-factorization and how it is used to solve least squares problems in the following videos:**\n",
        "- [An Example of QR Factorization](https://youtu.be/VsyNkUo88NM)\n",
        "- [Using QR Factorization to Solve Least-Squares Problems](https://youtu.be/-QY5iwNr9I4)\n",
        "\n",
        "**When you are done, proceed with the tasks below.**\n"
      ]
    },
    {
      "cell_type": "markdown",
      "metadata": {
        "id": "CpOpGZEb-7J3"
      },
      "source": [
        "*(1 point)* **Is it possible to perform the $QR$-factorization of the matrix $X$? Answer this question by checking if columns of $X$ are linearly independent. Explain.**\n",
        "\n",
        "*Hint: you can use [$\\texttt{np.linalg.matrix_rank()}$](https://numpy.org/doc/stable/reference/generated/numpy.linalg.matrix_rank.html) function to quickly compute rank of a matrix.*\n",
        "\n"
      ]
    },
    {
      "cell_type": "code",
      "execution_count": null,
      "metadata": {
        "id": "CLZrPr1W_ITL"
      },
      "outputs": [],
      "source": [
        "# TODO: your code here"
      ]
    },
    {
      "cell_type": "markdown",
      "metadata": {
        "id": "DMUXRf168z31"
      },
      "source": [
        "**Now, perform the $QR$-decomposition of $X$ following the steps below.**\n",
        "\n",
        "<font color='red'>Do **not** use any readily-available implementation of the $QR$-factorization. Instead, implement your own solution from scratch based on the tutorials provided above.</font>\n",
        "\n",
        "*(1 point)* **First, construct matrix $Q$ and print it out.**"
      ]
    },
    {
      "cell_type": "code",
      "execution_count": null,
      "metadata": {
        "id": "nSwcmHDyq31R"
      },
      "outputs": [],
      "source": [
        "# TODO: your code here"
      ]
    },
    {
      "cell_type": "markdown",
      "metadata": {
        "id": "RR3Y2Esd99V1"
      },
      "source": [
        "*(0.5 points)* **Verify that $Q$ is indeed orthogonal by showing that $Q^{-1} = Q^T$ (or, equivalently, that $Q^TQ = E$).**"
      ]
    },
    {
      "cell_type": "code",
      "execution_count": null,
      "metadata": {
        "id": "NZxRLBPZ-EJt"
      },
      "outputs": [],
      "source": [
        "# TODO: your code here"
      ]
    },
    {
      "cell_type": "markdown",
      "metadata": {
        "id": "EJbxw_SL9fK4"
      },
      "source": [
        "*(1 point)* **Second, construct matrix $R$. Print it out and verify that it is indeed an upper-triangular matrix.**"
      ]
    },
    {
      "cell_type": "code",
      "execution_count": null,
      "metadata": {
        "id": "F1EMvVRBsHas"
      },
      "outputs": [],
      "source": [
        "# TODO: your code here"
      ]
    },
    {
      "cell_type": "markdown",
      "metadata": {
        "id": "v4HoZ-r9_ZFq"
      },
      "source": [
        "*(0.5 point)* **Verify that $X = QR$**."
      ]
    },
    {
      "cell_type": "code",
      "execution_count": null,
      "metadata": {
        "id": "-OCAqU5dAKZK"
      },
      "outputs": [],
      "source": [
        "# TODO: your code here"
      ]
    },
    {
      "cell_type": "markdown",
      "metadata": {
        "id": "VE1On64l_oYj"
      },
      "source": [
        "*(2 point)* **Finally, perform least squares via $QR$ factorization. To do so, express $w$ in terms of $Q, R$ and $y$ and compute its value.**\n",
        "\n",
        "**Compare the coefficients that you get to those obtained in the previous tasks.**"
      ]
    },
    {
      "cell_type": "code",
      "execution_count": null,
      "metadata": {
        "id": "OdZWrVecs2_B"
      },
      "outputs": [],
      "source": [
        "# TODO: your code here"
      ]
    }
  ],
  "metadata": {
    "colab": {
      "provenance": []
    },
    "kernelspec": {
      "display_name": ".venv",
      "language": "python",
      "name": "python3"
    },
    "language_info": {
      "name": "python",
      "version": "3.13.5"
    }
  },
  "nbformat": 4,
  "nbformat_minor": 0
}
